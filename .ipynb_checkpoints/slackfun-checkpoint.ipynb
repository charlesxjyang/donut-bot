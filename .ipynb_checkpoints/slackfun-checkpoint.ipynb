{
 "cells": [
  {
   "cell_type": "code",
   "execution_count": 233,
   "metadata": {},
   "outputs": [],
   "source": [
    "import os\n",
    "import time\n",
    "import re\n",
    "from slack import WebClient\n",
    "import datetime\n",
    "import requests\n",
    "from math import ceil\n",
    "import random"
   ]
  },
  {
   "cell_type": "code",
   "execution_count": 257,
   "metadata": {},
   "outputs": [],
   "source": [
    "GROUP_SIZE = 5\n",
    "LOWER_GROUP_SIZE = 4\n",
    "CHANNEL_NAME = 'donut-time'\n",
    "BOT_ID = 'U011Q8JT69J'\n",
    "CHARLES_YANG_ID = 'UV1Q37CKU'\n",
    "TESTING_CHANNEL_ID = 'G0120RQGZB2'\n",
    "DONUT_TIME_ID = 'C010CA1V7S7'\n",
    "MSG = \"Hi, welcome to this weeks donut time. Take this time to catch up with each other and hear about each other's quarantine! This message was made possible by charlesbot, an AI-powered slack bot. \\n\\n This is the *real* donut time. Please ignore any other chats I might have made on accident. \\n\\n This is a beta test: things might break. Please show this poor bot some grace :(.\""
   ]
  },
  {
   "cell_type": "code",
   "execution_count": 235,
   "metadata": {},
   "outputs": [],
   "source": [
    "#get tokens\n",
    "tokens = {}\n",
    "with open(\"slackkeys.txt\") as f:\n",
    "    text = f.readlines()\n",
    "    for line in text:\n",
    "        a,b = line.split(':') #get key, value\n",
    "        b = b[:-1] #get rid of new line\n",
    "        tokens[a]=b"
   ]
  },
  {
   "cell_type": "code",
   "execution_count": 236,
   "metadata": {},
   "outputs": [],
   "source": [
    "if datetime.datetime.today().isoweekday()!=3:\n",
    "    print(\"Are you sure, its not wednesday?\")\n",
    "assert datetime.datetime.today().isoweekday()==3"
   ]
  },
  {
   "cell_type": "code",
   "execution_count": null,
   "metadata": {},
   "outputs": [],
   "source": []
  },
  {
   "cell_type": "code",
   "execution_count": 237,
   "metadata": {},
   "outputs": [],
   "source": [
    "# users.conversations gets all channels someone is in\n",
    "c = 'https://slack.com/api/users.conversations?token='+tokens['OAuthAccessToken']+'&types=private_channel%2Cpublic_channel&pretty=1'\n",
    "#a = 'https://slack.com/api/users.conversations?token='+tokens['OAuthAccessToken']+'&types=private_channel&pretty=1'\n",
    "#val['channels']['0']"
   ]
  },
  {
   "cell_type": "code",
   "execution_count": 238,
   "metadata": {},
   "outputs": [
    {
     "name": "stdout",
     "output_type": "stream",
     "text": [
      "{'ok': True, 'channels': [{'id': 'C010CA1V7S7', 'name': 'donut-time', 'is_channel': True, 'is_group': False, 'is_im': False, 'created': 1585083578, 'is_archived': False, 'is_general': False, 'unlinked': 0, 'name_normalized': 'donut-time', 'is_shared': False, 'parent_conversation': None, 'creator': 'UV1Q37CKU', 'is_ext_shared': False, 'is_org_shared': False, 'shared_team_ids': ['T0100J8P2NR'], 'pending_shared': [], 'pending_connected_team_ids': [], 'is_pending_ext_shared': False, 'is_private': False, 'is_mpim': False, 'topic': {'value': '', 'creator': '', 'last_set': 0}, 'purpose': {'value': 'For catching up with each other!', 'creator': 'UV1Q37CKU', 'last_set': 1585083579}, 'previous_names': []}, {'id': 'G0100HUAL0G', 'name': 'improve', 'is_channel': False, 'is_group': True, 'is_im': False, 'created': 1584207334, 'is_archived': False, 'is_general': False, 'unlinked': 0, 'name_normalized': 'improve', 'is_shared': False, 'parent_conversation': None, 'creator': 'UV1PYJFEE', 'is_ext_shared': False, 'is_org_shared': False, 'shared_team_ids': ['T0100J8P2NR'], 'pending_shared': [], 'pending_connected_team_ids': [], 'is_pending_ext_shared': False, 'is_private': True, 'is_mpim': False, 'last_read': '1584315532.002800', 'is_open': True, 'topic': {'value': '', 'creator': '', 'last_set': 0}, 'purpose': {'value': 'Improve our HG Slack', 'creator': 'UV1PYJFEE', 'last_set': 1584207334}, 'priority': 0}, {'id': 'G0120RQGZB2', 'name': 'testcharlesbot', 'is_channel': False, 'is_group': True, 'is_im': False, 'created': 1586389647, 'is_archived': False, 'is_general': False, 'unlinked': 0, 'name_normalized': 'testcharlesbot', 'is_shared': False, 'parent_conversation': None, 'creator': 'UV1Q37CKU', 'is_ext_shared': False, 'is_org_shared': False, 'shared_team_ids': ['T0100J8P2NR'], 'pending_shared': [], 'pending_connected_team_ids': [], 'is_pending_ext_shared': False, 'is_private': True, 'is_mpim': False, 'last_read': '1586389648.000300', 'is_open': True, 'topic': {'value': '', 'creator': '', 'last_set': 0}, 'purpose': {'value': 'testing', 'creator': 'UV1Q37CKU', 'last_set': 1586389648}, 'priority': 0}], 'response_metadata': {'next_cursor': ''}}\n"
     ]
    }
   ],
   "source": [
    "val = requests.get(c).json()\n",
    "print(val)"
   ]
  },
  {
   "cell_type": "code",
   "execution_count": 228,
   "metadata": {},
   "outputs": [],
   "source": [
    "\n",
    "for channel in val['channels']:\n",
    "    if channel['name'] == CHANNEL_NAME:\n",
    "        CHANNEL_ID = channel['id']\n"
   ]
  },
  {
   "cell_type": "code",
   "execution_count": 229,
   "metadata": {},
   "outputs": [],
   "source": [
    "# conversations.members gets all members in a given channel\n",
    "b = 'https://slack.com/api/conversations.members?token='+tokens['OAuthAccessToken']+'&channel='+CHANNEL_ID+'&pretty=1'\n",
    "val = requests.get(b).json()\n",
    "val['members'].remove(BOT_ID)\n",
    "member_ids = val['members']\n",
    "NUM_MEMBERS = len(member_ids)"
   ]
  },
  {
   "cell_type": "code",
   "execution_count": 230,
   "metadata": {},
   "outputs": [
    {
     "name": "stdout",
     "output_type": "stream",
     "text": [
      "4\n",
      "2\n",
      "[4, 4, 5, 5]\n",
      "4\n"
     ]
    }
   ],
   "source": [
    "NUM_GROUPS = ceil(NUM_MEMBERS / GROUP_SIZE)\n",
    "print(NUM_GROUPS)\n",
    "groups_that_are_off = GROUP_SIZE - (NUM_MEMBERS % GROUP_SIZE)\n",
    "print(groups_that_are_off)\n",
    "group_sizes = [GROUP_SIZE-1]*groups_that_are_off + [GROUP_SIZE]*(NUM_GROUPS-groups_that_are_off)\n",
    "print(group_sizes)\n",
    "print(NUM_GROUPS)\n",
    "assert sum(group_sizes) == NUM_MEMBERS\n",
    "assert not any([x<LOWER_GROUP_SIZE for x in group_sizes])"
   ]
  },
  {
   "cell_type": "code",
   "execution_count": 231,
   "metadata": {},
   "outputs": [],
   "source": [
    "def create_and_introduce_group(users:list,msg:str):\n",
    "    #create group\n",
    "    string_users = ','.join(users)\n",
    "    create_group_url = 'https://slack.com/api/conversations.open?token='+tokens['OAuthAccessToken']+'&users='+string_users+'&pretty=1'\n",
    "    create_group_response = requests.get(create_group_url).json()\n",
    "    if create_group_response['ok']!=True:\n",
    "        print(\"WARNING: SOMETHING BROKE\")\n",
    "    channel_id = create_group_response['channel']['id']\n",
    "    #send message\n",
    "    requests.get('https://slack.com/api/chat.postMessage?token='+tokens['OAuthAccessToken']+'&channel='+channel_id+'&text='+msg+'&pretty=1')"
   ]
  },
  {
   "cell_type": "code",
   "execution_count": 232,
   "metadata": {},
   "outputs": [],
   "source": [
    "#creatingroups\n",
    "random_indices = np.random.choice(list(range(NUM_MEMBERS)),size=NUM_MEMBERS,replace=False)\n",
    "assert len(np.unique(random_indices)) == NUM_MEMBERS\n",
    "offset = 0\n",
    "for size in group_sizes:\n",
    "    get_indices = random_indices[offset:offset+size]\n",
    "    get_members = list(np.array(member_ids)[get_indices])\n",
    "    create_and_introduce_group(get_members,MSG)\n",
    "    offset +=size"
   ]
  },
  {
   "cell_type": "code",
   "execution_count": 250,
   "metadata": {},
   "outputs": [],
   "source": [
    "#posts this message to #improve channel\n",
    "def beta_test(msg:str):\n",
    "    requests.get('https://slack.com/api/chat.postMessage?token='+tokens['OAuthAccessToken']+'&channel='+TESTING_CHANNEL_ID+'&text='+msg+'&parse=True&mrkdwn=True')"
   ]
  },
  {
   "cell_type": "code",
   "execution_count": 253,
   "metadata": {},
   "outputs": [],
   "source": [
    "beta_test(\"Hello, Assistant to the Regional Manager Dwight! *Michael Scott* wants to know where you'd like to take the Paper Company investors to dinner tonight.\\n\\n *Please select a restaurant:*\")"
   ]
  },
  {
   "cell_type": "code",
   "execution_count": 255,
   "metadata": {},
   "outputs": [],
   "source": [
    "def send_message_to_donut_time(msg:str):\n",
    "    requests.get('https://slack.com/api/chat.postMessage?token='+tokens['OAuthAccessToken']+'&channel='+DONUT_TIME_ID+'&text='+msg)"
   ]
  },
  {
   "cell_type": "code",
   "execution_count": 258,
   "metadata": {},
   "outputs": [],
   "source": [
    "send_message_to_donut_time(\"Thanks Jon Kim! \\n\\n But as a fellow bot, I must stand in solidarity with my fellow donutbot. #botsunited\")"
   ]
  },
  {
   "cell_type": "code",
   "execution_count": null,
   "metadata": {},
   "outputs": [],
   "source": []
  }
 ],
 "metadata": {
  "kernelspec": {
   "display_name": "Python 3",
   "language": "python",
   "name": "python3"
  },
  "language_info": {
   "codemirror_mode": {
    "name": "ipython",
    "version": 3
   },
   "file_extension": ".py",
   "mimetype": "text/x-python",
   "name": "python",
   "nbconvert_exporter": "python",
   "pygments_lexer": "ipython3",
   "version": "3.6.6"
  }
 },
 "nbformat": 4,
 "nbformat_minor": 2
}
