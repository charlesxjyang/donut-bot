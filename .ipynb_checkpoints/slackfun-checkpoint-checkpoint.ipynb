{
 "cells": [
  {
   "cell_type": "code",
   "execution_count": 1,
   "metadata": {},
   "outputs": [],
   "source": [
    "import os\n",
    "import time\n",
    "import re\n",
    "from slack import WebClient\n",
    "import datetime\n",
    "import requests\n",
    "from math import ceil\n",
    "import random\n",
    "import numpy as np\n",
    "import pandas as pd"
   ]
  },
  {
   "cell_type": "code",
   "execution_count": 3,
   "metadata": {},
   "outputs": [],
   "source": [
    "GROUP_SIZE = 5\n",
    "LOWER_GROUP_SIZE = 4\n",
    "CHANNEL_NAME = 'donut-time'\n",
    "BOT_ID = 'U011Q8JT69J'\n",
    "SIMPLE_POLL_ID = 'U010146UFJ8'\n",
    "CHARLES_YANG_ID = 'UV1Q37CKU'\n",
    "TESTING_CHANNEL_ID = 'G0120RQGZB2'\n",
    "DONUT_TIME_ID = 'C010CA1V7S7'\n",
    "\n",
    "#staff_name_to_uid()\n",
    "STAFF_UID = ['UV1PYJFEE','UV33ZG65R','UV4FFRUP3','UV58MRY4R','U010080SGRJ','U0101BF1X7F','U01492G1JAJ','U014123RC15','U013CG3E7E3','U0105DWR44X','U0105NZANP8']\n",
    "\n",
    "MSG = \"Hi, welcome to this weeks (06-01-20) donut time. Take this time to catch up with each other and hear about each other's quarantine! This message was made possible by charlesbot, an AI-powered data-driven slack bot, funded by the top VCs in Silicon Valley.\""
   ]
  },
  {
   "cell_type": "code",
   "execution_count": 4,
   "metadata": {},
   "outputs": [],
   "source": [
    "#get tokens\n",
    "tokens = {}\n",
    "with open(\"slackkeys.txt\") as f:\n",
    "    text = f.readlines()\n",
    "    for line in text:\n",
    "        a,b = line.split(':') #get key, value\n",
    "        b = b[:-1] #get rid of new line\n",
    "        tokens[a]=b"
   ]
  },
  {
   "cell_type": "code",
   "execution_count": 5,
   "metadata": {},
   "outputs": [
    {
     "name": "stdout",
     "output_type": "stream",
     "text": [
      "Are you sure, its not monday?\n"
     ]
    },
    {
     "ename": "AssertionError",
     "evalue": "",
     "output_type": "error",
     "traceback": [
      "\u001b[1;31m---------------------------------------------------------------------------\u001b[0m",
      "\u001b[1;31mAssertionError\u001b[0m                            Traceback (most recent call last)",
      "\u001b[1;32m<ipython-input-5-5f6353554a9d>\u001b[0m in \u001b[0;36m<module>\u001b[1;34m\u001b[0m\n\u001b[0;32m      1\u001b[0m \u001b[1;32mif\u001b[0m \u001b[0mdatetime\u001b[0m\u001b[1;33m.\u001b[0m\u001b[0mdatetime\u001b[0m\u001b[1;33m.\u001b[0m\u001b[0mtoday\u001b[0m\u001b[1;33m(\u001b[0m\u001b[1;33m)\u001b[0m\u001b[1;33m.\u001b[0m\u001b[0misoweekday\u001b[0m\u001b[1;33m(\u001b[0m\u001b[1;33m)\u001b[0m\u001b[1;33m!=\u001b[0m\u001b[1;36m1\u001b[0m\u001b[1;33m:\u001b[0m\u001b[1;33m\u001b[0m\u001b[0m\n\u001b[0;32m      2\u001b[0m     \u001b[0mprint\u001b[0m\u001b[1;33m(\u001b[0m\u001b[1;34m\"Are you sure, its not monday?\"\u001b[0m\u001b[1;33m)\u001b[0m\u001b[1;33m\u001b[0m\u001b[0m\n\u001b[1;32m----> 3\u001b[1;33m \u001b[1;32massert\u001b[0m \u001b[0mdatetime\u001b[0m\u001b[1;33m.\u001b[0m\u001b[0mdatetime\u001b[0m\u001b[1;33m.\u001b[0m\u001b[0mtoday\u001b[0m\u001b[1;33m(\u001b[0m\u001b[1;33m)\u001b[0m\u001b[1;33m.\u001b[0m\u001b[0misoweekday\u001b[0m\u001b[1;33m(\u001b[0m\u001b[1;33m)\u001b[0m\u001b[1;33m==\u001b[0m\u001b[1;36m1\u001b[0m\u001b[1;33m\u001b[0m\u001b[0m\n\u001b[0m",
      "\u001b[1;31mAssertionError\u001b[0m: "
     ]
    }
   ],
   "source": [
    "if datetime.datetime.today().isoweekday()!=1:\n",
    "    print(\"Are you sure, its not monday?\")\n",
    "assert datetime.datetime.today().isoweekday()==1"
   ]
  },
  {
   "cell_type": "code",
   "execution_count": null,
   "metadata": {},
   "outputs": [],
   "source": []
  },
  {
   "cell_type": "code",
   "execution_count": 6,
   "metadata": {},
   "outputs": [],
   "source": [
    "# users.conversations gets all channels someone is in\n",
    "c = 'https://slack.com/api/users.conversations?token='+tokens['OAuthAccessToken']+'&types=private_channel%2Cpublic_channel&pretty=1'\n",
    "#a = 'https://slack.com/api/users.conversations?token='+tokens['OAuthAccessToken']+'&types=private_channel&pretty=1'\n",
    "#val['channels']['0']"
   ]
  },
  {
   "cell_type": "code",
   "execution_count": 7,
   "metadata": {},
   "outputs": [
    {
     "name": "stdout",
     "output_type": "stream",
     "text": [
      "{'ok': True, 'channels': [{'id': 'C010CA1V7S7', 'name': 'donut-time', 'is_channel': True, 'is_group': False, 'is_im': False, 'created': 1585083578, 'is_archived': False, 'is_general': False, 'unlinked': 0, 'name_normalized': 'donut-time', 'is_shared': False, 'parent_conversation': None, 'creator': 'UV1Q37CKU', 'is_ext_shared': False, 'is_org_shared': False, 'shared_team_ids': ['T0100J8P2NR'], 'pending_shared': [], 'pending_connected_team_ids': [], 'is_pending_ext_shared': False, 'is_private': False, 'is_mpim': False, 'topic': {'value': '', 'creator': '', 'last_set': 0}, 'purpose': {'value': 'For catching up with each other!', 'creator': 'UV1Q37CKU', 'last_set': 1585083579}, 'previous_names': []}, {'id': 'G0100HUAL0G', 'name': 'improve', 'is_channel': False, 'is_group': True, 'is_im': False, 'created': 1584207334, 'is_archived': False, 'is_general': False, 'unlinked': 0, 'name_normalized': 'improve', 'is_shared': False, 'parent_conversation': None, 'creator': 'UV1PYJFEE', 'is_ext_shared': False, 'is_org_shared': False, 'shared_team_ids': ['T0100J8P2NR'], 'pending_shared': [], 'pending_connected_team_ids': [], 'is_pending_ext_shared': False, 'is_private': True, 'is_mpim': False, 'last_read': '1584315532.002800', 'is_open': True, 'topic': {'value': '', 'creator': '', 'last_set': 0}, 'purpose': {'value': 'Improve our HG Slack', 'creator': 'UV1PYJFEE', 'last_set': 1584207334}, 'priority': 0}, {'id': 'G0120RQGZB2', 'name': 'testcharlesbot', 'is_channel': False, 'is_group': True, 'is_im': False, 'created': 1586389647, 'is_archived': False, 'is_general': False, 'unlinked': 0, 'name_normalized': 'testcharlesbot', 'is_shared': False, 'parent_conversation': None, 'creator': 'UV1Q37CKU', 'is_ext_shared': False, 'is_org_shared': False, 'shared_team_ids': ['T0100J8P2NR'], 'pending_shared': [], 'pending_connected_team_ids': [], 'is_pending_ext_shared': False, 'is_private': True, 'is_mpim': False, 'last_read': '1586389648.000300', 'is_open': True, 'topic': {'value': '', 'creator': '', 'last_set': 0}, 'purpose': {'value': 'testing', 'creator': 'UV1Q37CKU', 'last_set': 1586389648}, 'priority': 0}], 'response_metadata': {'next_cursor': ''}}\n"
     ]
    }
   ],
   "source": [
    "val = requests.get(c).json()\n",
    "print(val)"
   ]
  },
  {
   "cell_type": "code",
   "execution_count": 8,
   "metadata": {},
   "outputs": [],
   "source": [
    "\n",
    "for channel in val['channels']:\n",
    "    if channel['name'] == CHANNEL_NAME:\n",
    "        CHANNEL_ID = channel['id']\n"
   ]
  },
  {
   "cell_type": "code",
   "execution_count": 15,
   "metadata": {},
   "outputs": [
    {
     "name": "stdout",
     "output_type": "stream",
     "text": [
      "25\n"
     ]
    }
   ],
   "source": [
    "# conversations.members gets all members in a given channel\n",
    "b = 'https://slack.com/api/conversations.members?token='+tokens['OAuthAccessToken']+'&channel='+CHANNEL_ID+'&pretty=1'\n",
    "val = requests.get(b).json()\n",
    "val['members'].remove(BOT_ID)\n",
    "val['members'].remove(SIMPLE_POLL_ID)\n",
    "STUDENT_MEMBERS = [a for a in val['members'] if a not in STAFF_UID]\n",
    "member_ids = val['members']\n",
    "NUM_STUDENTS = len(STUDENT_MEMBERS)\n",
    "print(NUM_MEMBERS)"
   ]
  },
  {
   "cell_type": "code",
   "execution_count": 12,
   "metadata": {},
   "outputs": [],
   "source": [
    "def staff_name_to_uid():\n",
    "    for i in val['members']:\n",
    "        print(i)\n",
    "        print(uid_to_username(i))"
   ]
  },
  {
   "cell_type": "code",
   "execution_count": null,
   "metadata": {},
   "outputs": [],
   "source": []
  },
  {
   "cell_type": "code",
   "execution_count": 27,
   "metadata": {},
   "outputs": [
    {
     "data": {
      "text/plain": [
       "{'ok': True,\n",
       " 'channel': {'id': 'C010CA1V7S7',\n",
       "  'name': 'donut-time',\n",
       "  'is_channel': True,\n",
       "  'is_group': False,\n",
       "  'is_im': False,\n",
       "  'created': 1585083578,\n",
       "  'is_archived': False,\n",
       "  'is_general': False,\n",
       "  'unlinked': 0,\n",
       "  'name_normalized': 'donut-time',\n",
       "  'is_shared': False,\n",
       "  'parent_conversation': None,\n",
       "  'creator': 'UV1Q37CKU',\n",
       "  'is_ext_shared': False,\n",
       "  'is_org_shared': False,\n",
       "  'shared_team_ids': ['T0100J8P2NR'],\n",
       "  'pending_shared': [],\n",
       "  'pending_connected_team_ids': [],\n",
       "  'is_pending_ext_shared': False,\n",
       "  'is_member': True,\n",
       "  'is_private': False,\n",
       "  'is_mpim': False,\n",
       "  'last_read': '1586387319.003200',\n",
       "  'topic': {'value': '', 'creator': '', 'last_set': 0},\n",
       "  'purpose': {'value': 'For catching up with each other!',\n",
       "   'creator': 'UV1Q37CKU',\n",
       "   'last_set': 1585083579},\n",
       "  'previous_names': [],\n",
       "  'locale': 'en-US'}}"
      ]
     },
     "execution_count": 27,
     "metadata": {},
     "output_type": "execute_result"
    }
   ],
   "source": [
    "# conversations.members gets all members in a given channel\n",
    "b = 'https://slack.com/api/conversations.info?token='+tokens['OAuthAccessToken']+'&channel='+CHANNEL_ID+'&pretty=1'+'&include_locale=true'\n",
    "val = requests.get(b).json()\n",
    "val"
   ]
  },
  {
   "cell_type": "code",
   "execution_count": 31,
   "metadata": {},
   "outputs": [
    {
     "name": "stdout",
     "output_type": "stream",
     "text": [
      "0\n",
      "[5, 5, 5, 5]\n",
      "4\n"
     ]
    }
   ],
   "source": [
    "NUM_GROUPS = ceil(NUM_MEMBERS / GROUP_SIZE)\n",
    "groups_that_are_off = (GROUP_SIZE - (NUM_MEMBERS % GROUP_SIZE)) % GROUP_SIZE\n",
    "print(groups_that_are_off)\n",
    "group_sizes = [GROUP_SIZE-1]*groups_that_are_off + [GROUP_SIZE]*(NUM_GROUPS-groups_that_are_off)\n",
    "print(group_sizes)\n",
    "print(NUM_GROUPS)\n",
    "assert sum(group_sizes) == NUM_MEMBERS\n",
    "assert not any([x<LOWER_GROUP_SIZE for x in group_sizes])"
   ]
  },
  {
   "cell_type": "code",
   "execution_count": 11,
   "metadata": {},
   "outputs": [],
   "source": [
    "def create_and_introduce_group(users:list,msg:str):\n",
    "    #create group\n",
    "    string_users = ','.join(users)\n",
    "    create_group_url = 'https://slack.com/api/conversations.open?token='+tokens['OAuthAccessToken']+'&users='+string_users+'&pretty=1'\n",
    "    create_group_response = requests.get(create_group_url).json()\n",
    "    if create_group_response['ok']!=True:\n",
    "        print(\"WARNING: SOMETHING BROKE\")\n",
    "    channel_id = create_group_response['channel']['id']\n",
    "    #send message\n",
    "    requests.get('https://slack.com/api/chat.postMessage?token='+tokens['OAuthAccessToken']+'&channel='+channel_id+'&text='+msg+'&pretty=1')\n",
    "    return channel_id\n",
    "\n",
    "def uid_to_username(uid):\n",
    "    return requests.get('https://slack.com/api/users.info?token='+tokens['OAuthAccessToken']+'&user='+uid+'&pretty=1').json()['user']['name']"
   ]
  },
  {
   "cell_type": "code",
   "execution_count": 110,
   "metadata": {},
   "outputs": [],
   "source": [
    "def metric(proposed_group:np.ndarray,old_groups:list):\n",
    "    #get all members\n",
    "    unique_members = np.unique(proposed_group)\n",
    "    total_score = 0.0\n",
    "    for person in unique_members:\n",
    "        co_group_members = all_groups[np.where(proposed_group==person)[0][0]]\n",
    "        unique_meets = len(co_group_members) #unique people in group\n",
    "        for g in old_groups:\n",
    "            #this persons old group\n",
    "            if g:\n",
    "                old_co_group_members = g[np.where(g==person)[0][0]]\n",
    "                for a in old_co_group_members:\n",
    "                    if a in co_group_members:\n",
    "                        unique_meets -= 1\n",
    "        \n",
    "        total_score += float(unique_meets) / float(len(co_group_members))\n",
    "    return total_score"
   ]
  },
  {
   "cell_type": "code",
   "execution_count": null,
   "metadata": {},
   "outputs": [],
   "source": []
  },
  {
   "cell_type": "code",
   "execution_count": 79,
   "metadata": {},
   "outputs": [
    {
     "data": {
      "text/plain": [
       "[array([['U0105NZANP8', 'U0102ENEFR7', 'UV4BK6HT5', 'UV58MRY4R',\n",
       "         'UV72Z6D99'],\n",
       "        ['UV33ZG65R', 'UV1PYJFEE', 'U010080SGRJ', 'UV4FFRUP3',\n",
       "         'UV1Q37CKU'],\n",
       "        ['U0101BF1X7F', 'UV331TEJW', 'UV5S0DH5Z', 'U0103V20BPZ',\n",
       "         'UV4M0JVMG'],\n",
       "        ['UV4J81D6F', 'UVC5D9091', 'UV6BEFSRZ', 'U0105DWR44X',\n",
       "         'U01047L2WK0']], dtype='<U11'), array(None, dtype=object)]"
      ]
     },
     "execution_count": 79,
     "metadata": {},
     "output_type": "execute_result"
    }
   ],
   "source": [
    "df = pd.read_pickle(\"tmp\")\n",
    "df['groups'].values.tolist()"
   ]
  },
  {
   "cell_type": "code",
   "execution_count": 143,
   "metadata": {},
   "outputs": [
    {
     "name": "stdout",
     "output_type": "stream",
     "text": [
      "20.0\n"
     ]
    }
   ],
   "source": [
    "#previewing groups\n",
    "max_score = 0.0\n",
    "best_group = None\n",
    "df = pd.read_pickle(\"tmp\")\n",
    "for _ in range(1000):\n",
    "    random_indices = np.random.choice(list(range(NUM_MEMBERS)),size=NUM_MEMBERS,replace=False)\n",
    "    offset = 0\n",
    "    all_groups = []\n",
    "    group_channels = []\n",
    "    for size in group_sizes:\n",
    "        get_indices = random_indices[offset:offset+size]\n",
    "        get_members = list(np.array(member_ids)[get_indices])\n",
    "        #print([uid_to_username(x) for x in get_members])\n",
    "        offset +=size\n",
    "        all_groups.append(get_members)\n",
    "        #group_channels.append(channel_id)\n",
    "    this_score = metric(np.array(all_groups),df['groups'].values.tolist())\n",
    "    if this_score>max_score:\n",
    "        max_score = this_score\n",
    "        best_group = all_groups\n",
    "        print(max_score)"
   ]
  },
  {
   "cell_type": "code",
   "execution_count": 144,
   "metadata": {},
   "outputs": [
    {
     "name": "stdout",
     "output_type": "stream",
     "text": [
      "['emma_donnelly', 'charlesxjyang', 'vanessa.donasco', 'jennifer.li', 'joyjung']\n",
      "['godwin.law', 'jonathan.scott', 'viviantiet', 'cjuan037', 'shuajo']\n",
      "['liabi000', 'mjlikre', 'chibuzorobiorah', 'yuanjane08', 'jonathan.chen']\n",
      "['isaacbraganza', 'katherine.kim', 'kim.scott', 'regina.kim', 'jonathan.kim']\n"
     ]
    }
   ],
   "source": [
    "for g in best_group:\n",
    "    print([uid_to_username(x) for x in g])\n"
   ]
  },
  {
   "cell_type": "code",
   "execution_count": 145,
   "metadata": {},
   "outputs": [],
   "source": [
    "for g in best_group:\n",
    "    create_and_introduce_group(g,MSG)\n"
   ]
  },
  {
   "cell_type": "code",
   "execution_count": 120,
   "metadata": {},
   "outputs": [
    {
     "data": {
      "text/html": [
       "<div>\n",
       "<style scoped>\n",
       "    .dataframe tbody tr th:only-of-type {\n",
       "        vertical-align: middle;\n",
       "    }\n",
       "\n",
       "    .dataframe tbody tr th {\n",
       "        vertical-align: top;\n",
       "    }\n",
       "\n",
       "    .dataframe thead th {\n",
       "        text-align: right;\n",
       "    }\n",
       "</style>\n",
       "<table border=\"1\" class=\"dataframe\">\n",
       "  <thead>\n",
       "    <tr style=\"text-align: right;\">\n",
       "      <th></th>\n",
       "      <th>date</th>\n",
       "      <th>groups</th>\n",
       "      <th>normalized_avg_unique_meets</th>\n",
       "    </tr>\n",
       "  </thead>\n",
       "  <tbody>\n",
       "    <tr>\n",
       "      <th>0</th>\n",
       "      <td>2020-05-16</td>\n",
       "      <td>[[UV6BEFSRZ, U0102ENEFR7, U0103V20BPZ, UV4J81D...</td>\n",
       "      <td>20.0</td>\n",
       "    </tr>\n",
       "  </tbody>\n",
       "</table>\n",
       "</div>"
      ],
      "text/plain": [
       "         date                                             groups  \\\n",
       "0  2020-05-16  [[UV6BEFSRZ, U0102ENEFR7, U0103V20BPZ, UV4J81D...   \n",
       "\n",
       "   normalized_avg_unique_meets  \n",
       "0                         20.0  "
      ]
     },
     "execution_count": 120,
     "metadata": {},
     "output_type": "execute_result"
    }
   ],
   "source": [
    "df = pd.DataFrame({'date':{},'groups':{},'normalized_avg_unique_meets':{}})\n",
    "#df = df.append({'date':datetime.date.today(),'groups':np.array(all_groups),'normalized_avg_unique_meets':20.0},ignore_index=True)\n",
    "df = df.append({'date':datetime.date.today(),'groups':np.array(best_group),'normalized_avg_unique_meets':max_score},ignore_index=True)\n",
    "df.head()\n"
   ]
  },
  {
   "cell_type": "code",
   "execution_count": null,
   "metadata": {},
   "outputs": [],
   "source": [
    "df.to_pickle(\"tmp\")"
   ]
  },
  {
   "cell_type": "code",
   "execution_count": 147,
   "metadata": {},
   "outputs": [],
   "source": [
    "send_message_to_donut_time(\"This week's donut-time groups are out! We'll be switching to a donut-time's starting on the monday of every week, but I just wanted to get this week's out early! \\n\\n v2.0.0.1 updates: \\n\\n - added optimization algorithm to maximize number of new people during each week's groups \\n\\n :shipit: \")"
   ]
  },
  {
   "cell_type": "code",
   "execution_count": 148,
   "metadata": {},
   "outputs": [],
   "source": [
    "def send_message_to_donut_time(msg:str):\n",
    "    requests.get('https://slack.com/api/chat.postMessage?token='+tokens['OAuthAccessToken']+'&channel='+DONUT_TIME_ID+'&text='+msg)"
   ]
  },
  {
   "cell_type": "code",
   "execution_count": 250,
   "metadata": {},
   "outputs": [],
   "source": [
    "#posts this message to #improve channel\n",
    "def beta_test(msg:str):\n",
    "    requests.get('https://slack.com/api/chat.postMessage?token='+tokens['OAuthAccessToken']+'&channel='+TESTING_CHANNEL_ID+'&text='+msg+'&parse=True&mrkdwn=True')"
   ]
  },
  {
   "cell_type": "code",
   "execution_count": 253,
   "metadata": {},
   "outputs": [],
   "source": [
    "beta_test(\"Hello, Assistant to the Regional Manager Dwight! *Michael Scott* wants to know where you'd like to take the Paper Company investors to dinner tonight.\\n\\n *Please select a restaurant:*\")"
   ]
  },
  {
   "cell_type": "code",
   "execution_count": null,
   "metadata": {},
   "outputs": [],
   "source": []
  }
 ],
 "metadata": {
  "kernelspec": {
   "display_name": "Python 3",
   "language": "python",
   "name": "python3"
  },
  "language_info": {
   "codemirror_mode": {
    "name": "ipython",
    "version": 3
   },
   "file_extension": ".py",
   "mimetype": "text/x-python",
   "name": "python",
   "nbconvert_exporter": "python",
   "pygments_lexer": "ipython3",
   "version": "3.6.6"
  }
 },
 "nbformat": 4,
 "nbformat_minor": 2
}
